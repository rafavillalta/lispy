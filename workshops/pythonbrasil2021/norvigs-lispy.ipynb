{
 "cells": [
  {
   "cell_type": "markdown",
   "id": "ded9b96c",
   "metadata": {},
   "source": [
    "# Norvig's `lis.py`\n",
    "\n",
    "\n",
    "![Norvig's lispy](lispy.png)"
   ]
  },
  {
   "cell_type": "markdown",
   "id": "9e53b947",
   "metadata": {},
   "source": [
    "Contents:\n",
    "\n",
    "* [Introdução](#Introduction)\n",
    "* [Sintaxe do Scheme](#Scheme-Syntax)\n",
    "* [Importações e tipos](#Imports-and-types)\n",
    "* [O Parser](#The-Parser)\n",
    "  * [Exercício 0](#Exercise-0)\n",
    "* [O ambiente integrado](#The-Built-in-Environment)\n",
    "* [Uma calculadora](#A-Calculator)\n",
    "* [Execução não interativa](#Non-interactive-execution)\n",
    "  * [Exercício 1](#Exercise-1)\n",
    "  * [Exercício 2](#Exercise-2)\n",
    "* [Procedimentos definidos pelo usuário](#User-defined-procedures)\n",
    "* [Um ambente mais completo](#A-more-complete-environment)\n",
    "* [`Procedure`: uma classe para representar um encerramento](#Procedure:-a-class-to-represent-a-closure)\n",
    "* [Avalie com `lambda`, `if`, e `quote`](#Evaluate-with-lambda,-if,-and-quote)\n",
    "* [O REPL](#The-REPL)\n",
    "* [Exemplos](#Examples)"
   ]
  },
  {
   "cell_type": "markdown",
   "id": "2ab26756",
   "metadata": {},
   "source": [
    "## Introdução\n",
    "\n",
    "[Peter Norvig](https://norvig.com/) da Univerisdade de Stanford escreveu [`lis.py`](https://github.com/norvig/pytudes/blob/main/py/lis.py): um intérprete para um subconjunto do dialeto Scheme de Lisp em 132 linhas de código Python legível.\n",
    "\n",
    "Porque você deveria estudar `lis.py`? Isto é o que eu tirei disso:\n",
    "\n",
    "* Aprender como um intérprete funciona me proporcionou um entendimento mais profundo de Python e linguagens de programação em geral - interpretadas ou compiladas.\n",
    "\n",
    "* A simplicidade do Scheme é uma classe mestre do design linguístico. \n",
    "\n",
    "* `lis.py` é um belo exemplo de código Python idiomático.\n",
    "\n",
    "Norvig descreve `lis.py` em um post entitulado \n",
    "[(How to Write a (Lisp) Interpreter (in Python))](https://norvig.com/lispy.html). Altamente recomendado.\n",
    "\n",
    "Antes de olhar para o código Python, vamos provar um pouco do Scheme, caso você não tenha visto ele (ou o Lisp) antes. "
   ]
  },
  {
   "cell_type": "markdown",
   "id": "feabd3c3",
   "metadata": {},
   "source": [
    "## Sintaxe do Scheme\n",
    "\n",
    "\n",
    "Tudo no Scheme é uma expressão.\n",
    "Não há operadores infixo:\n",
    "todas as expressões utilizam notação de prefixo como `(+ x 13)` ao invés de `x + 13`.\n",
    "A mesma notação de prefixo é usada para chamadas de função - por exemplo `(gcd x 13)`— e\n",
    "para forms especiais — por exemplo `(define x 13)`,\n",
    "que escreveríamos como a atribuição `x = 13` no Python.\n",
    "A notação usada pelo Schece e pela maioria dos dialetos Lisp é conhecida como _S-expression_.\n",
    "\n",
    "Segue um exemplo simples em Scheme:\n",
    "\n",
    "```scheme\n",
    "(define (mod m n)\n",
    "    (- m (* n (quotient m n))))\n",
    "\n",
    "(define (gcd m n)\n",
    "    (if (= n 0)\n",
    "        m\n",
    "        (gcd n (mod m n))))\n",
    "\n",
    "(display (gcd 18 45))\n",
    "```"
   ]
  },
  {
   "cell_type": "markdown",
   "id": "77d983a7",
   "metadata": {},
   "source": [
    "Aqui está o mesmo algoritmo em Python:"
   ]
  },
  {
   "cell_type": "code",
   "execution_count": null,
   "id": "81e553c3",
   "metadata": {},
   "outputs": [],
   "source": [
    "def mod(m, n):\n",
    "    return m - (m // n * n)\n",
    "\n",
    "def gcd(m, n):\n",
    "    if n == 0:\n",
    "        return m\n",
    "    else:\n",
    "        return gcd(n, mod(m, n))\n",
    "\n",
    "print(gcd(18, 45))"
   ]
  },
  {
   "cell_type": "markdown",
   "id": "ec042161",
   "metadata": {},
   "source": [
    "> **DICA**: Clique na célula acima para selecionar, depois digite`【CTRL】【ENTER】` para executar. \n",
    "<br>O resultado irá aparecer abaixo da célula.\n",
    "\n",
    "Scheme não possui comandos iterativos de fluxo de controle como `while` ou `for`.\n",
    "Iteração é feita com recursividade. \n",
    "Note como não existem atribuições nos exemplos do Scheme e do Python.  \n",
    "Uso extensivo de recursão e uso mínimo de atribuições \n",
    "são marcas registradas da programação no estilo funcional.\n",
    "\n",
    "No Python idiomático eu usaria o operador `%` ao invés de reinventar o `mod`,\n",
    "e seria mais eficiente usar o loop `while` ao invés de recursividade. \n",
    "Mas eu queria mostrar duas definições de função, \n",
    "e fazer com que os exemplos fossem o mais semelhantes possível,\n",
    "para te ajudar a ler o código Scheme. \n",
    "\n",
    "Agora vamos revisar o código da versão 3.7 do `lis.py` no Python. \n",
    "O código fonte completo com os testes para Python 3.10 está no diretório [18-with-match/lispy/py3.10/](https://github.com/fluentpython/example-code-2e/tree/master/18-with-match/lispy/py3.10/) do respositório no Github [fluentpython/example-code-2e](https://github.com/fluentpython/example-code-2e).\n"
   ]
  },
  {
   "cell_type": "markdown",
   "id": "ce316812",
   "metadata": {},
   "source": [
    "## Importações e tipos\n",
    "\n",
    "O código de Norvig não utiliza esse tipo de dicas. Eu adicionei elas e fiz mais algumas pequenas mudanças.\n",
    "\n",
    "Esse notebook utiliza Python 3.7 para rodar no [Binder](https://mybinder.org/), logo nós precisamos importar alguns tipos de coleções do `typing`. \n",
    "\n",
    "> **DICA**: Clique na célula abaixo para selecionar, depois digite `【SHIFT】【ENTER】` para executar e selecione a próxima célula. <br> Use `【CTRL】【ENTER】` para executar a célula e selecione a próxima célula.<br>Use esses comandos para executar células à medida que và seguindo. "
   ]
  },
  {
   "cell_type": "code",
   "execution_count": null,
   "id": "a42402f9",
   "metadata": {},
   "outputs": [],
   "source": [
    "import sys\n",
    "assert sys.version_info >= (3, 7), f'Expected Python ≥ 3.7; found: {sys.version}'\n",
    "sys.version"
   ]
  },
  {
   "cell_type": "code",
   "execution_count": null,
   "id": "4d1a14aa",
   "metadata": {},
   "outputs": [],
   "source": [
    "import math\n",
    "import operator as op\n",
    "from collections import ChainMap\n",
    "from itertools import chain\n",
    "from typing import Any, NoReturn\n",
    "from typing import Union, List, MutableMapping, Optional, Iterator\n",
    "\n",
    "Symbol = str\n",
    "Atom = Union[float, int, Symbol]\n",
    "Expression = Union[Atom, List]\n",
    "\n",
    "Environment = MutableMapping[Symbol, object]"
   ]
  },
  {
   "cell_type": "markdown",
   "id": "24ae27c8",
   "metadata": {},
   "source": [
    "Os tipos definidos são: \n",
    "\n",
    "`Symbol`: apenas um pseudônimo para `str`.\n",
    "No _lis.py_, `Symbol`é usado para identificadores,\n",
    "não há tipo de dados de strings com operações como slicing, splitting etc.\n",
    "\n",
    "`Atom`: um elemento sintático simples como um número ou um `Symbol` — ao contrário de um estrutura composta \n",
    "\n",
    "as opposed to a composite structure made of distinct parts, like a list.\n",
    "\n",
    "\n",
    "\n",
    "The types defined are:\n",
    "\n",
    "`Symbol`: Just an alias for `str`.\n",
    "In _lis.py_, `Symbol` is used for identifiers,\n",
    "there is no string data type with operations such as slicing, splitting etc.\n",
    "\n",
    "`Atom`: A simple syntactic element such as a number or a `Symbol`—as opposed to a composite structure made of distinct parts, like a list.\n",
    "\n",
    "`Expression`: The building blocks of Scheme programs are expressions made of atoms and lists, possibly nested.\n",
    "\n",
    "> **NOTE**: Norvig's second interpreter,\n",
    "[`lispy.py`](https://github.com/fluentpython/example-code-2e/blob/master/18-with-match/lispy/original/lispy.py),\n",
    "supports strings as a data type, as well as advanced features like\n",
    "syntactic macros, continuations, and proper tail calls.\n",
    "However, `lispy.py` is almost three times longer than `lis.py`—and\n",
    "harder to understand."
   ]
  },
  {
   "cell_type": "markdown",
   "id": "64b8235b",
   "metadata": {},
   "source": [
    "## The Parser\n",
    "\n",
    "Norvig's parser is 36 lines of code showcasing the power of Python applied to handling the\n",
    "simple recursive syntax of S-expression—without string data,\n",
    "comments, macros, and other features of standard Scheme that make parsing more complicated (these features are implemented in `lispy.py`)."
   ]
  },
  {
   "cell_type": "code",
   "execution_count": null,
   "id": "afd17d24",
   "metadata": {},
   "outputs": [],
   "source": [
    "def parse(program: str) -> Expression:\n",
    "    \"Read a Scheme expression from a string.\"\n",
    "    return read_from_tokens(tokenize(program))\n",
    "\n",
    "def tokenize(s: str) -> List[str]:\n",
    "    \"Convert a string into a list of tokens.\"\n",
    "    return s.replace('(', ' ( ').replace(')', ' ) ').split()\n",
    "\n",
    "def read_from_tokens(tokens: List[str]) -> Expression:\n",
    "    \"Read an expression from a sequence of tokens.\"\n",
    "    if len(tokens) == 0:\n",
    "        raise SyntaxError('unexpected EOF while reading')\n",
    "    token = tokens.pop(0)\n",
    "    if '(' == token:\n",
    "        exp = []\n",
    "        while tokens[0] != ')':\n",
    "            exp.append(read_from_tokens(tokens))\n",
    "        tokens.pop(0)  # discard ')'\n",
    "        return exp\n",
    "    elif ')' == token:\n",
    "        raise SyntaxError('unexpected )')\n",
    "    else:\n",
    "        return parse_atom(token)\n",
    "\n",
    "def parse_atom(token: str) -> Atom:\n",
    "    \"Numbers become numbers; every other token is a symbol.\"\n",
    "    try:\n",
    "        return int(token)\n",
    "    except ValueError:\n",
    "        try:\n",
    "            return float(token)\n",
    "        except ValueError:\n",
    "            return Symbol(token)"
   ]
  },
  {
   "cell_type": "markdown",
   "id": "28645a00",
   "metadata": {},
   "source": [
    "The main function of that group is `parse` which takes an S-expressions as a `str`\n",
    "and returns an `Expression` object: an `Atom` or a `list` that may contain more atoms and nested lists.\n",
    "\n",
    "Norvig uses a smart trick in `tokenize`:\n",
    "he adds spaces before and after each parenthesis in the input and then splits it,\n",
    "resulting in a list of syntactic tokens with `'('` and `')'`\n",
    "as separate tokens.\n",
    "This shortcut works because there is no string type in the little Scheme of _lis.py_, so every `'('` or `')'` is an expression delimiter.\n",
    "The recursive parsing code is in `read_from_tokens`.\n",
    "I will not explain it now because I want to focus on the other parts of the interpreter.\n",
    "\n",
    "Below are some examples of the top-level `parse` function.\n",
    "\n",
    "> **TIP**:  To run the code in each cell and select the next, use `【SHIFT】【ENTER】`.<br>\n",
    "If you get `NameError: name 'parse' is not defined`, use the menu command ***Cell > Run All Above***."
   ]
  },
  {
   "cell_type": "code",
   "execution_count": null,
   "id": "f4edf5e7",
   "metadata": {},
   "outputs": [],
   "source": [
    "parse('1.5')"
   ]
  },
  {
   "cell_type": "code",
   "execution_count": null,
   "id": "b1428c3b",
   "metadata": {},
   "outputs": [],
   "source": [
    "parse('ni!')"
   ]
  },
  {
   "cell_type": "code",
   "execution_count": null,
   "id": "99225447",
   "metadata": {},
   "outputs": [],
   "source": [
    "parse('''\n",
    "  (define double\n",
    "    (lambda (n)\n",
    "      (* n 2)))\n",
    "''')"
   ]
  },
  {
   "cell_type": "markdown",
   "id": "345d5f3d",
   "metadata": {},
   "source": [
    "The parsing rules for this subset of Scheme are simple:\n",
    "\n",
    "1. A token that looks like a number is parsed as a `float` or `int`.\n",
    "2. Anything else that is not `'('` or `')'` is parsed as a `Symbol`—a `str` to be used as an identifier. This includes source text like `+`, `set!`, and `make-counter` that are valid identifiers in Scheme but not in Python.\n",
    "3. Expressions inside `'('` and `')'` are recursively parsed as lists containing atoms or nested lists that may contain atoms and more nested lists.\n",
    "\n",
    "Using terminology of the Python interpreter, the output of `parse` is an **AST** (Abstract Syntax Tree):\n",
    "a convenient representation of the Scheme program as nested lists forming a tree-like structure,\n",
    "where the outermost list is the trunk, inner lists are the branches, and atoms are the leaves."
   ]
  },
  {
   "cell_type": "markdown",
   "id": "e253259b",
   "metadata": {},
   "source": [
    "### Exercise 0\n",
    "\n",
    "Replace the ellipis `...` with the AST for the given S-expressions, to make the comparison `True`.\n",
    "To run the code in the cell, hit `【CTRL】【ENTER】`. "
   ]
  },
  {
   "cell_type": "code",
   "execution_count": null,
   "id": "9e9dc8a0",
   "metadata": {},
   "outputs": [],
   "source": [
    "parse('9') == ..."
   ]
  },
  {
   "cell_type": "code",
   "execution_count": null,
   "id": "4cd69579",
   "metadata": {},
   "outputs": [],
   "source": [
    "parse('x/y') == ..."
   ]
  },
  {
   "cell_type": "code",
   "execution_count": null,
   "id": "fb69472b",
   "metadata": {
    "scrolled": true
   },
   "outputs": [],
   "source": [
    "parse('(+ 3 7)') == ..."
   ]
  },
  {
   "cell_type": "code",
   "execution_count": null,
   "id": "84b5f022",
   "metadata": {
    "scrolled": true
   },
   "outputs": [],
   "source": [
    "parse('(* c (/ 9 5))') == ..."
   ]
  },
  {
   "cell_type": "code",
   "execution_count": null,
   "id": "bd9a131f",
   "metadata": {
    "scrolled": true
   },
   "outputs": [],
   "source": [
    "parse('(+ 32 (* (/ 9 5) c ))') == ..."
   ]
  },
  {
   "cell_type": "markdown",
   "id": "d7213529",
   "metadata": {},
   "source": [
    "## Built-in Environment for a Calculator\n",
    "\n",
    "\n",
    "The `standard_env()` function builds and returns an `Environment` loaded\n",
    "with predefined functions, similar to Python's `__builtins__` module that is always available."
   ]
  },
  {
   "cell_type": "code",
   "execution_count": null,
   "id": "a90ce06f",
   "metadata": {},
   "outputs": [],
   "source": [
    "def standard_env() -> Environment:\n",
    "    \"An environment for an s-expression calculator.\"\n",
    "    env: Environment = {}\n",
    "    env.update(vars(math))   # sin, cos, sqrt, pi, ...\n",
    "    env.update(\n",
    "        {\n",
    "            '+': op.add,\n",
    "            '-': op.sub,\n",
    "            '*': op.mul,\n",
    "            '/': op.truediv,\n",
    "            'quotient': op.floordiv,\n",
    "            '>': op.gt,\n",
    "            '<': op.lt,\n",
    "            '>=': op.ge,\n",
    "            '<=': op.le,\n",
    "            '=': op.eq,\n",
    "            'abs': abs,\n",
    "            'begin': lambda *x: x[-1],\n",
    "            'eq?': op.is_,\n",
    "            'equal?': op.eq,\n",
    "            'max': max,\n",
    "            'min': min,\n",
    "            'not': op.not_,\n",
    "            'number?': lambda x: isinstance(x, (int, float)),\n",
    "            'procedure?': callable,\n",
    "            'round': round,\n",
    "            'symbol?': lambda x: isinstance(x, Symbol),\n",
    "        }\n",
    "    )\n",
    "    return env"
   ]
  },
  {
   "cell_type": "markdown",
   "id": "d2b3884a",
   "metadata": {},
   "source": [
    "The `env` mapping is loaded with:\n",
    "\n",
    "* all functions from Python's `math` module;\n",
    "* selected operators from Python's `op` module;\n",
    "* simple but powerful functions built with Python's `lambda`;\n",
    "* Python built-ins renamed like `callable` as `procedure?` or directly mapped like `round`."
   ]
  },
  {
   "cell_type": "markdown",
   "id": "ef2a871e",
   "metadata": {},
   "source": [
    "## A Calculator\n",
    "\n",
    "This first version of `evaluate` handles expressions using built-in functions and user-defined variables.\n",
    "\n",
    "> **NOTE**: Norvig's parser is simple and solid, but his evaluator is simple and fragile. He ommited error checking to keep the logic easy to follow. In his words: \"Lispy does not attempt to detect, reasonably report, or recover from errors. Lispy expects the programmer to be perfect.\" ([source](https://norvig.com/lispy.html)).\n"
   ]
  },
  {
   "cell_type": "code",
   "execution_count": null,
   "id": "cb1b716e",
   "metadata": {},
   "outputs": [],
   "source": [
    "def evaluate(x: Expression, env: Environment) -> Any:\n",
    "    \"Evaluate an expression in an environment.\"\n",
    "    if isinstance(x, Symbol):                    # variable reference\n",
    "        return env[x]\n",
    "    elif not isinstance(x, list):                # constant literal\n",
    "        return x\n",
    "    elif x[0] == 'define':                       # (define var exp)\n",
    "        _, var, exp = x\n",
    "        env[var] = evaluate(exp, env)\n",
    "    else:                                        # (proc arg...)\n",
    "        proc_exp, *args = x\n",
    "        proc = evaluate(proc_exp, env)\n",
    "        arg_values = [evaluate(exp, env) for exp in args]\n",
    "        return proc(*arg_values)"
   ]
  },
  {
   "cell_type": "markdown",
   "id": "fdad8326",
   "metadata": {},
   "source": [
    "Run these examples to see `evaluate` in action.\n",
    "\n",
    "A curious square:"
   ]
  },
  {
   "cell_type": "code",
   "execution_count": null,
   "id": "3f52d42e",
   "metadata": {},
   "outputs": [],
   "source": [
    "evaluate(parse('(* 11111 11111)'), standard_env())"
   ]
  },
  {
   "cell_type": "markdown",
   "id": "4bfe7679",
   "metadata": {},
   "source": [
    "If there are 876 candidates, and 123 were approved, what percentage was approved?"
   ]
  },
  {
   "cell_type": "code",
   "execution_count": null,
   "id": "40f463a3",
   "metadata": {},
   "outputs": [],
   "source": [
    "evaluate(parse('(* (/ 123 876) 100)'), standard_env())"
   ]
  },
  {
   "cell_type": "markdown",
   "id": "7bce9ee9",
   "metadata": {},
   "source": [
    "Now let's study each part of the `if/elif/…` in `evaluate`."
   ]
  },
  {
   "cell_type": "markdown",
   "id": "87fc5a27",
   "metadata": {},
   "source": [
    "### Evaluate symbol\n",
    "\n",
    "```python\n",
    "    if isinstance(x, Symbol):\n",
    "        return env[x]\n",
    "```\n",
    "\n",
    "If the expression is a `Symbol`, then look it up in the environment.\n",
    "\n"
   ]
  },
  {
   "cell_type": "code",
   "execution_count": null,
   "id": "86b44c93",
   "metadata": {},
   "outputs": [],
   "source": [
    "evaluate('pi', standard_env())"
   ]
  },
  {
   "cell_type": "code",
   "execution_count": null,
   "id": "c00e63f5",
   "metadata": {},
   "outputs": [],
   "source": [
    "evaluate('+', standard_env())"
   ]
  },
  {
   "cell_type": "markdown",
   "id": "dcab21b5",
   "metadata": {},
   "source": [
    "### Evaluate other atoms\n",
    "\n",
    "```python\n",
    "    elif not isinstance(x, list):\n",
    "        return x\n",
    "```\n",
    "\n",
    "If the expression is not a `list` and not a `Symbol` (because of the preceding check), then assume it is a constant literal and return it as is."
   ]
  },
  {
   "cell_type": "code",
   "execution_count": null,
   "id": "2fe7295e",
   "metadata": {},
   "outputs": [],
   "source": [
    "evaluate(1.5, standard_env())"
   ]
  },
  {
   "cell_type": "markdown",
   "id": "e5e40c52",
   "metadata": {},
   "source": [
    "### Evaluate `(define var exp)`\n",
    "\n",
    "```python\n",
    "    elif x[0] == 'define':\n",
    "        _, var, exp = x\n",
    "        env[var] = evaluate(exp, env)\n",
    "```\n",
    "\n",
    "If the expression is a `list` starting with the keyword `define`, then it should be followed by a `Symbol` and an `Expression`. Recursively evaluate the expression in environment, and store it in `env` using the `Symbol` as key."
   ]
  },
  {
   "cell_type": "code",
   "execution_count": null,
   "id": "8704b911",
   "metadata": {},
   "outputs": [],
   "source": [
    "env = standard_env()\n",
    "evaluate(parse('(define answer (* 7 6))'), env)\n",
    "env['answer']"
   ]
  },
  {
   "cell_type": "markdown",
   "id": "453d0685",
   "metadata": {},
   "source": [
    "### Evaluate function call `(proc arg…)`\n",
    "\n",
    "```python\n",
    "    else:\n",
    "        proc_exp, *args = x\n",
    "        proc = evaluate(proc_exp, env)\n",
    "        arg_values = [evaluate(exp, env) for exp in args]\n",
    "        return proc(*arg_values)\n",
    "```\n",
    "\n",
    "If the expression is a `list` that does not start with a keyword, then:\n",
    "\n",
    "1. Evaluate the first expression—it should return a procedure (a.k.a. function).\n",
    "2. Evaluate the remaining expressions (the argument values)\n",
    "3. Call the procedure with the argument values."
   ]
  },
  {
   "cell_type": "code",
   "execution_count": null,
   "id": "45ee8a66",
   "metadata": {},
   "outputs": [],
   "source": [
    "evaluate(['quotient', 8, 3], standard_env())"
   ]
  },
  {
   "cell_type": "code",
   "execution_count": null,
   "id": "dec638e4",
   "metadata": {},
   "outputs": [],
   "source": [
    "evaluate(['*', ['/', 123, 876], 100], standard_env())"
   ]
  },
  {
   "cell_type": "markdown",
   "id": "f17e66a3",
   "metadata": {},
   "source": [
    "`evaluate` can process deeply nested expressions, but only one expression at the top level. To bundle several expressions into one, use the `(begin ...)` function. All the arguments after `begin` are evaluated before `begin` is called, and `begin` returns the value of the last argument. For example:"
   ]
  },
  {
   "cell_type": "code",
   "execution_count": null,
   "id": "0bf57dc2",
   "metadata": {},
   "outputs": [],
   "source": [
    "env = standard_env()\n",
    "percent = \"\"\"\n",
    "(begin\n",
    "  (define a 126)\n",
    "  (define b (* 6 50))\n",
    "  (* (/ a b) 100)\n",
    ")\n",
    "\"\"\"\n",
    "evaluate(parse(percent), env)"
   ]
  },
  {
   "cell_type": "markdown",
   "id": "507ac57e",
   "metadata": {},
   "source": [
    "After the previous code, `env` now holds two variables: `a` and `b`."
   ]
  },
  {
   "cell_type": "code",
   "execution_count": null,
   "id": "b84328e5",
   "metadata": {},
   "outputs": [],
   "source": [
    "env['a'], env['b']"
   ]
  },
  {
   "cell_type": "markdown",
   "id": "43a37fc7",
   "metadata": {},
   "source": [
    "The `run()` function evaluates a string of one or more S-expressions as a program."
   ]
  },
  {
   "cell_type": "markdown",
   "id": "dd428f83",
   "metadata": {},
   "source": [
    "## Non-interactive execution with `run()`\n",
    "\n",
    "The following functions take Scheme source code as a string and execute it."
   ]
  },
  {
   "cell_type": "code",
   "execution_count": null,
   "id": "e8ceba06",
   "metadata": {},
   "outputs": [],
   "source": [
    "def run_lines(source: str, env: Optional[Environment] = None) -> Iterator[Any]:\n",
    "    global_env: Environment = ChainMap({}, standard_env())\n",
    "    if env is not None:\n",
    "        global_env.update(env)\n",
    "    tokens = tokenize(source)\n",
    "    while tokens:\n",
    "        exp = read_from_tokens(tokens)\n",
    "        yield evaluate(exp, global_env)\n",
    "\n",
    "\n",
    "def run(source: str, env: Optional[Environment] = None) -> Any:\n",
    "    for result in run_lines(source, env):\n",
    "        pass\n",
    "    return result"
   ]
  },
  {
   "cell_type": "markdown",
   "id": "05497541",
   "metadata": {},
   "source": [
    "With `run()` we don't need `(begin …)` to evaluate several expressions—but `begin` is still useful in other situations."
   ]
  },
  {
   "cell_type": "code",
   "execution_count": null,
   "id": "ebe534e1",
   "metadata": {},
   "outputs": [],
   "source": [
    "percent = \"\"\"\n",
    "(define a 126)\n",
    "(define b (* 6 50))\n",
    "(* (/ a b) 100)\n",
    "\"\"\"\n",
    "run(percent)"
   ]
  },
  {
   "cell_type": "markdown",
   "id": "13c21922",
   "metadata": {},
   "source": [
    "### Exercise 1\n",
    "\n",
    "This is the formula to convert temperatures from Celsius to Fahrenheit:\n",
    "\n",
    "`f = (9 / 5) * c + 32`\n",
    "\n",
    "Here is the code to convert 20°C to °F:"
   ]
  },
  {
   "cell_type": "code",
   "execution_count": null,
   "id": "ebaa88ba",
   "metadata": {},
   "outputs": [],
   "source": [
    "c_to_f = \"\"\"\n",
    "(define c 20)\n",
    "(+ 32 (* c (/ 9 5)))\n",
    "\"\"\"\n",
    "run(c_to_f)"
   ]
  },
  {
   "cell_type": "markdown",
   "id": "8f7682f4",
   "metadata": {},
   "source": [
    "The inverse conversion function is:\n",
    "\n",
    "`c = (f − 32) * 5 / 9`\n",
    "\n",
    "In the code below, replace `(+ 1 2)` with the expression to convert 68°F to °C."
   ]
  },
  {
   "cell_type": "code",
   "execution_count": null,
   "id": "16d48908",
   "metadata": {},
   "outputs": [],
   "source": [
    "f_to_c = \"\"\"\n",
    "(define f 68)\n",
    "(+ 1 2)\n",
    "\"\"\"\n",
    "run(f_to_c)"
   ]
  },
  {
   "cell_type": "markdown",
   "id": "ada4cdeb",
   "metadata": {},
   "source": [
    "### Exercise 2\n",
    "\n",
    "Python's `math` module includes a `factorial` function, which is part of the environment returned by `standard_env`:"
   ]
  },
  {
   "cell_type": "code",
   "execution_count": null,
   "id": "c2509e45",
   "metadata": {},
   "outputs": [],
   "source": [
    "run('(factorial 10)')"
   ]
  },
  {
   "cell_type": "markdown",
   "id": "e93984ea",
   "metadata": {},
   "source": [
    "Scheme accepts `!` as an identifier. Your task is to make Python's `factorial` available through the `!` symbol in Scheme.\n",
    "\n",
    "**Step 2.1** Uncomment the expression below and run it to see an error. Look at the last line of the error output. What is the error? Do you understand why that is the error?"
   ]
  },
  {
   "cell_type": "code",
   "execution_count": null,
   "id": "6e9d40f9",
   "metadata": {},
   "outputs": [],
   "source": [
    "# run('(! 10)') == 3628800"
   ]
  },
  {
   "cell_type": "markdown",
   "id": "0b2493e6",
   "metadata": {},
   "source": [
    "**Step 2.2.** Edit the `standard_env` function above to add an entry for `!`,\n",
    "mapping to Python's `math.factorial` function.\n",
    "\n",
    "**Step 2.3.** Run the expression above to confirm that the result is `True`.\n"
   ]
  },
  {
   "cell_type": "markdown",
   "id": "ef82c502",
   "metadata": {},
   "source": [
    "### Exercise 3\n",
    "\n",
    "In standard Scheme, the `+` operator is variadic, i.e. it accepts any number of arguments.\n",
    "With 0 arguments, `(+)` returns `0`; otherwise it returns the sum of all arguments.\n",
    "\n",
    "**Step 3.1.** Uncomment the expression below and run it to see an error. Does the error make sense to you?"
   ]
  },
  {
   "cell_type": "code",
   "execution_count": null,
   "id": "66ae240b",
   "metadata": {},
   "outputs": [],
   "source": [
    "# run('(= 10 (+ 1 2 3 4))')"
   ]
  },
  {
   "cell_type": "markdown",
   "id": "914a62cf",
   "metadata": {},
   "source": [
    "**Step 3.2.** Edit the `standard_env` function above to re-implement `+` to make the expression above return `True`.\n",
    "\n",
    "> **HINT 3.2.1**: below is a variadic version of Python's `sum`:\n"
   ]
  },
  {
   "cell_type": "code",
   "execution_count": null,
   "id": "9138b4a6",
   "metadata": {},
   "outputs": [],
   "source": [
    "def variadic_sum(*args):\n",
    "    return sum(args)\n",
    "\n",
    "variadic_sum(1, 2, 3, 4)"
   ]
  },
  {
   "cell_type": "markdown",
   "id": "71f39dc3",
   "metadata": {},
   "source": [
    "> **HINT 3.2.2**: the same function in a single line of Python, followed by a demonstration:"
   ]
  },
  {
   "cell_type": "code",
   "execution_count": null,
   "id": "928b1e31",
   "metadata": {},
   "outputs": [],
   "source": [
    "f = lambda *args: sum(args)\n",
    "f(1, 2, 3, 4)"
   ]
  },
  {
   "cell_type": "markdown",
   "id": "1705d5f4",
   "metadata": {},
   "source": [
    "## A more complete environment"
   ]
  },
  {
   "cell_type": "markdown",
   "id": "6f58b3c0",
   "metadata": {},
   "source": [
    "This new version of `standard_env()` defines functions that handle lists."
   ]
  },
  {
   "cell_type": "code",
   "execution_count": null,
   "id": "22ba8355",
   "metadata": {},
   "outputs": [],
   "source": [
    "def standard_env() -> Environment:\n",
    "    \"An environment with some Scheme standard procedures.\"\n",
    "    env: Environment = {}\n",
    "    env.update(vars(math))   # sin, cos, sqrt, pi, ...\n",
    "    env.update(\n",
    "        {\n",
    "            '+': op.add,\n",
    "            '-': op.sub,\n",
    "            '*': op.mul,\n",
    "            '/': op.truediv,\n",
    "            'quotient': op.floordiv,\n",
    "            '>': op.gt,\n",
    "            '<': op.lt,\n",
    "            '>=': op.ge,\n",
    "            '<=': op.le,\n",
    "            '=': op.eq,\n",
    "            'abs': abs,\n",
    "            'append': lambda *args: list(chain(*args)),          \n",
    "            'apply': lambda proc, args: proc(*args),\n",
    "            'begin': lambda *x: x[-1],\n",
    "            'car': lambda x: x[0],\n",
    "            'cdr': lambda x: x[1:],\n",
    "            'cons': lambda x, y: [x] + y,\n",
    "            'eq?': op.is_,\n",
    "            'equal?': op.eq,\n",
    "            'filter': lambda *args: list(filter(*args)),\n",
    "            'length': len,\n",
    "            'list': lambda *x: list(x),\n",
    "            'list?': lambda x: isinstance(x, list),\n",
    "            'map': lambda *args: list(map(*args)),\n",
    "            'max': max,\n",
    "            'min': min,\n",
    "            'not': op.not_,\n",
    "            'null?': lambda x: x == [],\n",
    "            'number?': lambda x: isinstance(x, (int, float)),\n",
    "            'procedure?': callable,\n",
    "            'round': round,\n",
    "            'symbol?': lambda x: isinstance(x, Symbol),\n",
    "        }\n",
    "    )\n",
    "    return env"
   ]
  },
  {
   "cell_type": "markdown",
   "id": "d03c19f2",
   "metadata": {},
   "source": [
    "## `Procedure`: a class to represent a closure\n",
    "\n",
    "The next improvement to `evaluate()` will include the `(lambda …)` form to allow user-defined functions (the authors of Scheme prefer the term *procedure*). To support `lambda`, we need a class to represent a procedure:"
   ]
  },
  {
   "cell_type": "code",
   "execution_count": null,
   "id": "10b578e6",
   "metadata": {},
   "outputs": [],
   "source": [
    "class Procedure:\n",
    "    \"A user-defined Scheme procedure.\"\n",
    "\n",
    "    def __init__(self, parms: List[Symbol], body: Expression, env: Environment):\n",
    "        self.parms = parms\n",
    "        self.body = body\n",
    "        self.env = env\n",
    "\n",
    "    def __call__(self, *args: Expression) -> Any:\n",
    "        local_env = dict(zip(self.parms, args))\n",
    "        env: Environment = ChainMap(local_env, self.env)\n",
    "        return evaluate(self.body, env)"
   ]
  },
  {
   "cell_type": "markdown",
   "id": "33a6059a",
   "metadata": {},
   "source": [
    "The `Procedure` class could very well be named `Closure`,\n",
    "because that's what it represents:\n",
    "a function definition together with an environment captured when the function is defined.\n",
    "The required parameters to create a `Procedure` are:\n",
    "\n",
    "`parms`: the function parameter names as a list of symbols. This list may be empty.\n",
    "\n",
    "`body`: the body of the function as an expression to be evaluated when the function is invoked.\n",
    "\n",
    "`env`: the environment where the function is created. This is what makes it a [*closure*](https://en.wikipedia.org/wiki/Closure_(computer_programming)).\n",
    "\n",
    "The `__init__` method simply stores the arguments passed. None of them is evaluated when the function is defined.\n",
    "\n",
    "The environment is used when the function is called to provide the values of\n",
    "the [*non-local variables*](https://en.wikipedia.org/wiki/Non-local_variable):\n",
    "variables that appear in the body of the function but that\n",
    "are not parameters or local variables.\n",
    "\n",
    "Let's create a `Procedure` \"by-hand\" to see how it works:"
   ]
  },
  {
   "cell_type": "code",
   "execution_count": null,
   "id": "1ac6d778",
   "metadata": {},
   "outputs": [],
   "source": [
    "double = Procedure(['n'], ['*', 'n', 2], standard_env())\n",
    "double(4)"
   ]
  },
  {
   "cell_type": "markdown",
   "id": "b02d4694",
   "metadata": {},
   "source": [
    "## Evaluate with `lambda`, `if`, and `quote`\n",
    "\n",
    "To transform the calculator into a worthy subset of Scheme, we need to support user defined functions, conditionals and the `(quote …)` form to handle S-expressions as data—instead of evaluating them.\n"
   ]
  },
  {
   "cell_type": "code",
   "execution_count": null,
   "id": "0d24fc3d",
   "metadata": {},
   "outputs": [],
   "source": [
    "def evaluate(x: Expression, env: Environment) -> Any:\n",
    "    \"Evaluate an expression in an environment.\"\n",
    "    if isinstance(x, str):                       # variable reference\n",
    "        return env[x]\n",
    "    elif not isinstance(x, list):                # constant literal\n",
    "        return x\n",
    "    elif x[0] == 'define':                       # (define var exp)\n",
    "        _, var, exp = x\n",
    "        env[var] = evaluate(exp, env)\n",
    "    elif x[0] == 'lambda':                       # (lambda (var...) body)\n",
    "        _, parms, body = x\n",
    "        return Procedure(parms, body, env)\n",
    "    elif x[0] == 'quote':                        # (quote exp)\n",
    "        _, exp = x\n",
    "        return exp\n",
    "    elif x[0] == 'if':                           # (if test consequence alternative)\n",
    "        _, test, consequence, alternative = x\n",
    "        if evaluate(test, env):\n",
    "            return evaluate(consequence, env)\n",
    "        else:\n",
    "            return evaluate(alternative, env)\n",
    "    else:                                        # (proc arg...)\n",
    "        proc_exp, *args = x\n",
    "        proc = evaluate(proc_exp, env)\n",
    "        arg_values = [evaluate(exp, env) for exp in args]\n",
    "        return proc(*arg_values)"
   ]
  },
  {
   "cell_type": "markdown",
   "id": "01fbcadf",
   "metadata": {},
   "source": [
    "### Evaluate `(lambda (var…) body)`\n",
    "\n",
    "```python\n",
    "    elif x[0] == 'lambda':                       \n",
    "        _, parms, body = x\n",
    "        return Procedure(parms, body, env)\n",
    "```\n",
    "\n",
    "If the expression is a `list` starting with the keyword `lambda`, followed by a list of 0 or more symbols, and a single `body` expression, then build and return a `Procedure`.\n",
    "\n",
    "Example:"
   ]
  },
  {
   "cell_type": "code",
   "execution_count": null,
   "id": "79596757",
   "metadata": {},
   "outputs": [],
   "source": [
    "percent = run('(lambda (a b) (* (/ a b) 100))')\n",
    "percent(15, 20)"
   ]
  },
  {
   "cell_type": "markdown",
   "id": "b4021852",
   "metadata": {},
   "source": [
    "The result of `(lambda …)` is an anonymous function, so it is not stored in the environment. To create a named function, use `lambda` with `define`.\n",
    "\n",
    "> **NOTE**: This version of `lis.py` only accepts a single expression as the `body` of the function. Use `(begin …)` to wrap multiple expressions. The result of the function will be the value of the last expression."
   ]
  },
  {
   "cell_type": "markdown",
   "id": "23817d89",
   "metadata": {},
   "source": [
    "### Evaluate `(quote exp)`\n",
    "\n",
    "```python\n",
    "    elif x[0] == 'quote':\n",
    "        _, exp = x\n",
    "        return exp\n",
    "```\n",
    "\n",
    "If the expression is a `list` starting with the keyword `quote` followed by a single expression, return the expression without evaluating it.\n",
    "\n",
    "Examples:"
   ]
  },
  {
   "cell_type": "code",
   "execution_count": null,
   "id": "cd9cd735",
   "metadata": {},
   "outputs": [],
   "source": [
    "run('(quote no-such-name)')  # undefined symbol, would raise error if evaluated"
   ]
  },
  {
   "cell_type": "code",
   "execution_count": null,
   "id": "95128ffb",
   "metadata": {},
   "outputs": [],
   "source": [
    "run('(quote (99 bottles of beer))')  # 99 is not the name of a function or reserved word"
   ]
  },
  {
   "cell_type": "code",
   "execution_count": null,
   "id": "9ba4f06c",
   "metadata": {},
   "outputs": [],
   "source": [
    "run('(quote (/ 10 0))')  # this would raise division by zero if evaluated"
   ]
  },
  {
   "cell_type": "markdown",
   "id": "71162cb6",
   "metadata": {},
   "source": [
    "### Evaluate `(if test consequence alternative)`\n",
    "\n",
    "```python\n",
    "    elif x[0] == 'if':\n",
    "        _, test, consequence, alternative = x\n",
    "        if evaluate(test, env):\n",
    "            return evaluate(consequence, env)\n",
    "        else:\n",
    "            return evaluate(alternative, env)\n",
    "```\n",
    "\n",
    "If the expression is a `list` starting with the keyword `if`, followed by exactly three expressions, evaluate `test`. If true, evaluate `consequence`; otherwise evaluate `alternative`.\n",
    "\n",
    "Example:"
   ]
  },
  {
   "cell_type": "code",
   "execution_count": null,
   "id": "d9ab8fd0",
   "metadata": {},
   "outputs": [],
   "source": [
    "run('(if (= 3 3) 1 0)')"
   ]
  },
  {
   "cell_type": "code",
   "execution_count": null,
   "id": "cbb721cc",
   "metadata": {},
   "outputs": [],
   "source": [
    "run('(if (= 3 30) 1 0)')"
   ]
  },
  {
   "cell_type": "code",
   "execution_count": null,
   "id": "6dde8f00",
   "metadata": {},
   "outputs": [],
   "source": [
    "source = '''\n",
    "(define pass-fail\n",
    "    (lambda (grade)\n",
    "        (if (>= grade 5)\n",
    "            (quote PASS)\n",
    "            (quote FAIL))))\n",
    "(pass-fail 7)\n",
    "'''\n",
    "run(source)"
   ]
  },
  {
   "cell_type": "markdown",
   "id": "55d6ff2d",
   "metadata": {},
   "source": [
    "## The REPL\n",
    "\n",
    "Norvig's REPL (Read-Eval-Print-Loop) is easy to undersand but not user-friendly.\n",
    "If no command-line arguments are given to _lis.py_,\n",
    "the `repl()` function is invoked by `main()`—defined at the end of the module.\n",
    "At the `lis.py>` prompt we must enter correct and complete expressions—if\n",
    "we forget to close one parenthesis, _lis.py_ crashes.\n",
    "\n",
    "> **NOTE**: As I studied Norvig's _lis.py_ and _lispy.py_, I started a fork named\n",
    "  [`mylis`](https://github.com/fluentpython/lispy/blob/main/mylis)\n",
    "  which adds some features, including a REPL that accepts partial S-expressions\n",
    "  and prompts for the continuation, similar to how Python's REPL\n",
    "  knows we are not finished and presents the secondary prompt `...` until\n",
    "  we enter a complete expression or statement that can be evaluated.\n",
    "  `mylis` also handles a few errors gracefully, but it's still easy to crash.\n"
   ]
  },
  {
   "cell_type": "code",
   "execution_count": null,
   "id": "94fe43ae",
   "metadata": {},
   "outputs": [],
   "source": [
    "def repl(prompt: str = 'lis.py> ') -> NoReturn:\n",
    "    \"A prompt-read-evaluate-print loop.\"\n",
    "    global_env: Environment = standard_env()\n",
    "    while True:\n",
    "        val = evaluate(parse(input(prompt)), global_env)\n",
    "        if val is not None:\n",
    "            print(lispstr(val))\n",
    "\n",
    "\n",
    "def lispstr(exp: object) -> str:\n",
    "    \"Convert a Python object back into a Lisp-readable string.\"\n",
    "    if isinstance(exp, list):\n",
    "        return '(' + ' '.join(map(lispstr, exp)) + ')'\n",
    "    else:\n",
    "        return str(exp)"
   ]
  },
  {
   "cell_type": "markdown",
   "id": "81a5af91",
   "metadata": {},
   "source": [
    "Function `repl` calls `standard_env()` to provide built-in functions for the global environment,\n",
    "then enters an infinite loop reading and parsing each input line,\n",
    "evaluating it in the global environment and displaying the result—unless it's `None`.\n",
    "The `global_env` may be modified by `evaluate`.\n",
    "\n",
    "`lispstr` is the inverse function of `parse`:\n",
    "given a Python object representing an expression,\n",
    "`parse` returns the Scheme source code for it.\n",
    "For example:"
   ]
  },
  {
   "cell_type": "code",
   "execution_count": null,
   "id": "7741420e",
   "metadata": {},
   "outputs": [],
   "source": [
    "lispstr(['+', 32, ['*', ['/', 9, 5], 'c']])"
   ]
  },
  {
   "cell_type": "markdown",
   "id": "4144a9af",
   "metadata": {},
   "source": [
    "## Examples\n",
    "\n",
    "### Simple recursive factorial"
   ]
  },
  {
   "cell_type": "code",
   "execution_count": null,
   "id": "065ca625",
   "metadata": {},
   "outputs": [],
   "source": [
    "fact_src = '''\n",
    "(define ! (lambda (n)\n",
    "    (if (< n 2) \n",
    "        1 \n",
    "        (* n (! (- n 1)))\n",
    ")))\n",
    "\n",
    "(! 5)\n",
    "'''\n",
    "run(fact_src)"
   ]
  },
  {
   "cell_type": "markdown",
   "id": "aeacb2c7",
   "metadata": {},
   "source": [
    "### Greatest common divisor\n",
    "\n",
    "The [Euclidean algorihm](https://en.wikipedia.org/wiki/Euclidean_algorithm).\n",
    "\n",
    "> **NOTE**: This is example uses `lambda` inside `define` instead of the shortcut `define` form listed in \n",
    "[Scheme Syntax](#Scheme-Syntax), which creates named procedures directly. Changing `evaluate()` to support that variation of `define` is left as an exercise for the reader. 😉"
   ]
  },
  {
   "cell_type": "code",
   "execution_count": null,
   "id": "472e941b",
   "metadata": {},
   "outputs": [],
   "source": [
    "gcd_src = '''\n",
    "(define mod (lambda (m n)\n",
    "    (- m (* n (quotient m n)))))\n",
    "\n",
    "(define gcd (lambda (m n)\n",
    "    (if (= n 0)\n",
    "        m\n",
    "        (gcd n (mod m n)))))\n",
    "\n",
    "(gcd 18 45)\n",
    "'''\n",
    "run(gcd_src)"
   ]
  },
  {
   "cell_type": "markdown",
   "id": "fc5eeb3c",
   "metadata": {},
   "source": [
    "### Quicksort\n",
    "\n",
    "Tony Hoare's elegant [recursive sorting algorithm](https://en.wikipedia.org/wiki/Quicksort).\n",
    "\n",
    "Note the use of `quote` to create a list of numbers, and the use of Scheme list handling functions: `null?`, `car`, `cdr`, `append`, `list`, and `filter`."
   ]
  },
  {
   "cell_type": "code",
   "execution_count": null,
   "id": "59903dd6",
   "metadata": {},
   "outputs": [],
   "source": [
    "quicksort_src = \"\"\"\n",
    "(define quicksort (lambda (lst)\n",
    "    (if (null? lst)\n",
    "        lst\n",
    "        (begin\n",
    "            (define pivot (car lst))\n",
    "            (define rest (cdr lst))\n",
    "            (append\n",
    "                (quicksort\n",
    "                    (filter (lambda (x) (< x pivot)) rest))\n",
    "                (list pivot)\n",
    "                (quicksort\n",
    "                    (filter (lambda (x) (>= x pivot)) rest)))\n",
    "))))\n",
    "\n",
    "(quicksort (quote (2 1 6 3 4 0 8 9 7 5)))\n",
    "\"\"\"\n",
    "run(quicksort_src)"
   ]
  },
  {
   "cell_type": "markdown",
   "id": "5b4aeb5f",
   "metadata": {},
   "source": [
    "### Square root algorithm\n",
    "\n",
    "This is known as the [Babylonian method](https://en.wikipedia.org/wiki/Methods_of_computing_square_roots#Babylonian_method),\n",
    "an ancient special case of [Newton's method](https://en.wikipedia.org/wiki/Newton%27s_method).\n",
    "This code is adapted from an [example](https://mitpress.mit.edu/sites/default/files/sicp/full-text/sicp/book/node12.html) in the book *Structure and Interpretation of Computer Programs*."
   ]
  },
  {
   "cell_type": "code",
   "execution_count": null,
   "id": "b67f6a35",
   "metadata": {},
   "outputs": [],
   "source": [
    "sqrt_src = \"\"\"\n",
    "(define sqrt (lambda (x)\n",
    "    (sqrt-iter 1.0 x)))\n",
    "    \n",
    "(define sqrt-iter (lambda (guess x)\n",
    "    (if (good-enough? guess x)\n",
    "        guess\n",
    "        (sqrt-iter (improve guess x) x))))\n",
    "        \n",
    "(define good-enough? (lambda (guess x)\n",
    "    (< (abs (- (* guess guess) x)) 0.001)))\n",
    "    \n",
    "(define improve (lambda (guess x)\n",
    "    (average guess (/ x guess))))\n",
    "    \n",
    "(define average (lambda (x y)\n",
    "    (/ (+ x y) 2)))\n",
    "    \n",
    "(sqrt 123454321)\n",
    "\"\"\"\n",
    "run(sqrt_src)"
   ]
  },
  {
   "cell_type": "markdown",
   "id": "c545d822",
   "metadata": {},
   "source": [
    "### Tail-recursive factorial\n",
    "\n",
    "The `factorial-iter` function is tail-recursive: the recursive call is returned as the result. That's a\n",
    "[*tail call*](https://en.wikipedia.org/wiki/Tail_call).\n",
    "\n",
    "In contrast, the [Simple recursive factorial](#Simple-recursive-factorial) is not tail recursive: the result of the recursive call is multiplied by `n` before it is returned."
   ]
  },
  {
   "cell_type": "code",
   "execution_count": null,
   "id": "6f450e95",
   "metadata": {},
   "outputs": [],
   "source": [
    "fact_src = '''\n",
    "(define ! (lambda (n)\n",
    "    (factorial-iter n 1)))\n",
    "\n",
    "(define factorial-iter\n",
    "    (lambda (n product)\n",
    "        (if (= n 1)\n",
    "            product\n",
    "            (factorial-iter (- n 1) (* n product))\n",
    "        )\n",
    "    )\n",
    ")\n",
    "      \n",
    "(! 5)\n",
    "'''\n",
    "run(fact_src)"
   ]
  },
  {
   "cell_type": "markdown",
   "id": "e1dd71ca",
   "metadata": {},
   "source": [
    "> **NOTE**: `lis.py` does not implement proper tail calls (PTC)—a.k.a. tail call optimization (TCO).\n",
    "Therefore, there is no advantage in writing tail recursive functions. But\n",
    "[`lispy.py`](https://github.com/norvig/pytudes/blob/main/py/lispy.py) and\n",
    "[`mylis_2`](https://github.com/fluentpython/lispy/blob/main/mylis/mylis_2/lis.py) implement PTC, so tail-recursion does not grow the stack, and tail-recursive code is more efficient."
   ]
  },
  {
   "cell_type": "code",
   "execution_count": null,
   "id": "34bd8494",
   "metadata": {},
   "outputs": [],
   "source": []
  }
 ],
 "metadata": {
  "kernelspec": {
   "display_name": "Python 3 (ipykernel)",
   "language": "python",
   "name": "python3"
  },
  "language_info": {
   "codemirror_mode": {
    "name": "ipython",
    "version": 3
   },
   "file_extension": ".py",
   "mimetype": "text/x-python",
   "name": "python",
   "nbconvert_exporter": "python",
   "pygments_lexer": "ipython3",
   "version": "3.7.9"
  }
 },
 "nbformat": 4,
 "nbformat_minor": 5
}
